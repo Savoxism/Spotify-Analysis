{
 "cells": [
  {
   "cell_type": "code",
   "execution_count": null,
   "metadata": {},
   "outputs": [],
   "source": [
    "import json\n",
    "import os\n",
    "import pandas as pd\n",
    "import numpy as np\n",
    "import matplotlib.pyplot as plt\n",
    "import seaborn as sns"
   ]
  },
  {
   "cell_type": "markdown",
   "metadata": {},
   "source": [
    "# Cleaning Data"
   ]
  },
  {
   "cell_type": "code",
   "execution_count": null,
   "metadata": {},
   "outputs": [],
   "source": [
    "playlist_file_path = 'datasets/Playlist1.json'\n",
    "with open(playlist_file_path, 'r', encoding='utf-8') as file:\n",
    "    data = json.load(file)\n",
    "\n",
    "rows = []\n",
    "\n",
    "for playlist in data['playlists']:\n",
    "    playlist_name = playlist['name']\n",
    "    last_modified_date = playlist['lastModifiedDate']\n",
    "    \n",
    "    #Iterate through each item\n",
    "    for item in playlist['items']:\n",
    "        track = item['track']\n",
    "        rows.append({\n",
    "            'playlist_name': playlist_name,\n",
    "            'last_modified_date': last_modified_date,\n",
    "            'track_name': track['trackName'],\n",
    "            'artist_name': track['artistName'],\n",
    "            'album_name': track['albumName'],\n",
    "            'track_uri': track['trackUri'],\n",
    "            'added_date': item['addedDate']\n",
    "        })\n",
    "\n",
    "df = pd.DataFrame(rows)\n",
    "\n",
    "df.tail(10)"
   ]
  },
  {
   "cell_type": "code",
   "execution_count": null,
   "metadata": {},
   "outputs": [],
   "source": [
    "df.isna().sum()"
   ]
  },
  {
   "cell_type": "code",
   "execution_count": null,
   "metadata": {},
   "outputs": [],
   "source": [
    "df.drop_duplicates(inplace=True)\n",
    "df.duplicated().sum()"
   ]
  },
  {
   "cell_type": "markdown",
   "metadata": {},
   "source": [
    "# Top Artists"
   ]
  },
  {
   "cell_type": "code",
   "execution_count": null,
   "metadata": {},
   "outputs": [],
   "source": [
    "artist_counts = df['artist_name'].value_counts()\n",
    "\n",
    "top_artists = artist_counts.head(10)\n",
    "\n",
    "plt.figure(figsize=(12, 6))\n",
    "top_artists.plot(kind='bar')\n",
    "plt.title('Top 10 Artists')\n",
    "plt.xlabel('Artist Name')\n",
    "plt.ylabel('Number of Appearances')\n",
    "plt.xticks(rotation=45, ha='right')\n",
    "plt.tight_layout()\n",
    "plt.show()"
   ]
  }
 ],
 "metadata": {
  "kernelspec": {
   "display_name": "Python 3",
   "language": "python",
   "name": "python3"
  },
  "language_info": {
   "codemirror_mode": {
    "name": "ipython",
    "version": 3
   },
   "file_extension": ".py",
   "mimetype": "text/x-python",
   "name": "python",
   "nbconvert_exporter": "python",
   "pygments_lexer": "ipython3",
   "version": "3.12.3"
  }
 },
 "nbformat": 4,
 "nbformat_minor": 2
}
