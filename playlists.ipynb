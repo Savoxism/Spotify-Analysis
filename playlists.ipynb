{
 "cells": [
  {
   "cell_type": "code",
   "execution_count": 1,
   "metadata": {},
   "outputs": [],
   "source": [
    "import json\n",
    "import os\n",
    "import pandas as pd\n",
    "import numpy as np\n",
    "import matplotlib.pyplot as plt\n",
    "import seaborn as sns"
   ]
  },
  {
   "cell_type": "markdown",
   "metadata": {},
   "source": [
    "# Cleaning Data"
   ]
  },
  {
   "cell_type": "code",
   "execution_count": 11,
   "metadata": {},
   "outputs": [
    {
     "data": {
      "text/html": [
       "<div>\n",
       "<style scoped>\n",
       "    .dataframe tbody tr th:only-of-type {\n",
       "        vertical-align: middle;\n",
       "    }\n",
       "\n",
       "    .dataframe tbody tr th {\n",
       "        vertical-align: top;\n",
       "    }\n",
       "\n",
       "    .dataframe thead th {\n",
       "        text-align: right;\n",
       "    }\n",
       "</style>\n",
       "<table border=\"1\" class=\"dataframe\">\n",
       "  <thead>\n",
       "    <tr style=\"text-align: right;\">\n",
       "      <th></th>\n",
       "      <th>playlist_name</th>\n",
       "      <th>last_modified_date</th>\n",
       "      <th>track_name</th>\n",
       "      <th>artist_name</th>\n",
       "      <th>album_name</th>\n",
       "      <th>track_uri</th>\n",
       "      <th>added_date</th>\n",
       "    </tr>\n",
       "  </thead>\n",
       "  <tbody>\n",
       "    <tr>\n",
       "      <th>232</th>\n",
       "      <td>Lo-fi of Lee</td>\n",
       "      <td>2021-12-18</td>\n",
       "      <td>Relax your mind</td>\n",
       "      <td>Lee</td>\n",
       "      <td>Lo-fi of Lee</td>\n",
       "      <td>spotify:track:65AB4GO61fFjMZBRwpn2T0</td>\n",
       "      <td>2021-12-18</td>\n",
       "    </tr>\n",
       "    <tr>\n",
       "      <th>233</th>\n",
       "      <td>Lo-fi of Lee</td>\n",
       "      <td>2021-12-18</td>\n",
       "      <td>Like The Sun</td>\n",
       "      <td>Lee</td>\n",
       "      <td>Lo-fi of Lee</td>\n",
       "      <td>spotify:track:3zLjH6GAa99XP06HK68mmo</td>\n",
       "      <td>2021-12-18</td>\n",
       "    </tr>\n",
       "    <tr>\n",
       "      <th>234</th>\n",
       "      <td>Lo-fi of Lee</td>\n",
       "      <td>2021-12-18</td>\n",
       "      <td>Moon</td>\n",
       "      <td>Lee</td>\n",
       "      <td>Lo-fi of Lee</td>\n",
       "      <td>spotify:track:5cgtI2cqHkUuPG3TsVAkvg</td>\n",
       "      <td>2021-12-18</td>\n",
       "    </tr>\n",
       "    <tr>\n",
       "      <th>235</th>\n",
       "      <td>Lo-fi of Lee</td>\n",
       "      <td>2021-12-18</td>\n",
       "      <td>island</td>\n",
       "      <td>Lee</td>\n",
       "      <td>Lo-fi of Lee</td>\n",
       "      <td>spotify:track:1GmLTvxG6mjA7X5Cee47M6</td>\n",
       "      <td>2021-12-18</td>\n",
       "    </tr>\n",
       "    <tr>\n",
       "      <th>236</th>\n",
       "      <td>Lo-fi of Lee</td>\n",
       "      <td>2021-12-18</td>\n",
       "      <td>Her</td>\n",
       "      <td>Lee</td>\n",
       "      <td>Lo-fi of Lee</td>\n",
       "      <td>spotify:track:62esNF1khuxbvAbQJwPfjy</td>\n",
       "      <td>2021-12-18</td>\n",
       "    </tr>\n",
       "    <tr>\n",
       "      <th>237</th>\n",
       "      <td>Lo-fi of Lee</td>\n",
       "      <td>2021-12-18</td>\n",
       "      <td>I Need You</td>\n",
       "      <td>Lee</td>\n",
       "      <td>Lo-fi of Lee</td>\n",
       "      <td>spotify:track:02hB7HaYRMrxBsDd3sbwu4</td>\n",
       "      <td>2021-12-18</td>\n",
       "    </tr>\n",
       "    <tr>\n",
       "      <th>238</th>\n",
       "      <td>Lo-fi of Lee</td>\n",
       "      <td>2021-12-18</td>\n",
       "      <td>Like a Dream</td>\n",
       "      <td>Lee</td>\n",
       "      <td>Lo-fi of Lee</td>\n",
       "      <td>spotify:track:3KyLgJwYjQIdIMnFvNWZ0O</td>\n",
       "      <td>2021-12-18</td>\n",
       "    </tr>\n",
       "    <tr>\n",
       "      <th>239</th>\n",
       "      <td>Lo-fi of Lee</td>\n",
       "      <td>2021-12-18</td>\n",
       "      <td>Breathin</td>\n",
       "      <td>Lee</td>\n",
       "      <td>Lo-fi of Lee</td>\n",
       "      <td>spotify:track:1QMyJ8Q8bwl7zFo1vyKowC</td>\n",
       "      <td>2021-12-18</td>\n",
       "    </tr>\n",
       "    <tr>\n",
       "      <th>240</th>\n",
       "      <td>Lo-fi of Lee</td>\n",
       "      <td>2021-12-18</td>\n",
       "      <td>You're Beautiful</td>\n",
       "      <td>Lee</td>\n",
       "      <td>Lo-fi of Lee</td>\n",
       "      <td>spotify:track:2Pvd5RWEbis40GbvxA3eck</td>\n",
       "      <td>2021-12-18</td>\n",
       "    </tr>\n",
       "    <tr>\n",
       "      <th>241</th>\n",
       "      <td>Lo-fi of Lee</td>\n",
       "      <td>2021-12-18</td>\n",
       "      <td>Only Hope</td>\n",
       "      <td>Lee</td>\n",
       "      <td>Lo-fi of Lee</td>\n",
       "      <td>spotify:track:2xw5tfUKqTD46SQG2Twv9K</td>\n",
       "      <td>2021-12-18</td>\n",
       "    </tr>\n",
       "  </tbody>\n",
       "</table>\n",
       "</div>"
      ],
      "text/plain": [
       "    playlist_name last_modified_date        track_name artist_name  \\\n",
       "232  Lo-fi of Lee         2021-12-18   Relax your mind         Lee   \n",
       "233  Lo-fi of Lee         2021-12-18      Like The Sun         Lee   \n",
       "234  Lo-fi of Lee         2021-12-18              Moon         Lee   \n",
       "235  Lo-fi of Lee         2021-12-18            island         Lee   \n",
       "236  Lo-fi of Lee         2021-12-18               Her         Lee   \n",
       "237  Lo-fi of Lee         2021-12-18        I Need You         Lee   \n",
       "238  Lo-fi of Lee         2021-12-18      Like a Dream         Lee   \n",
       "239  Lo-fi of Lee         2021-12-18          Breathin         Lee   \n",
       "240  Lo-fi of Lee         2021-12-18  You're Beautiful         Lee   \n",
       "241  Lo-fi of Lee         2021-12-18         Only Hope         Lee   \n",
       "\n",
       "       album_name                             track_uri  added_date  \n",
       "232  Lo-fi of Lee  spotify:track:65AB4GO61fFjMZBRwpn2T0  2021-12-18  \n",
       "233  Lo-fi of Lee  spotify:track:3zLjH6GAa99XP06HK68mmo  2021-12-18  \n",
       "234  Lo-fi of Lee  spotify:track:5cgtI2cqHkUuPG3TsVAkvg  2021-12-18  \n",
       "235  Lo-fi of Lee  spotify:track:1GmLTvxG6mjA7X5Cee47M6  2021-12-18  \n",
       "236  Lo-fi of Lee  spotify:track:62esNF1khuxbvAbQJwPfjy  2021-12-18  \n",
       "237  Lo-fi of Lee  spotify:track:02hB7HaYRMrxBsDd3sbwu4  2021-12-18  \n",
       "238  Lo-fi of Lee  spotify:track:3KyLgJwYjQIdIMnFvNWZ0O  2021-12-18  \n",
       "239  Lo-fi of Lee  spotify:track:1QMyJ8Q8bwl7zFo1vyKowC  2021-12-18  \n",
       "240  Lo-fi of Lee  spotify:track:2Pvd5RWEbis40GbvxA3eck  2021-12-18  \n",
       "241  Lo-fi of Lee  spotify:track:2xw5tfUKqTD46SQG2Twv9K  2021-12-18  "
      ]
     },
     "execution_count": 11,
     "metadata": {},
     "output_type": "execute_result"
    }
   ],
   "source": [
    "playlist_file_path = 'datasets/Playlist1.json'\n",
    "with open(playlist_file_path, 'r', encoding='utf-8') as file:\n",
    "    data = json.load(file)\n",
    "\n",
    "rows = []\n",
    "\n",
    "for playlist in data['playlists']:\n",
    "    playlist_name = playlist['name']\n",
    "    last_modified_date = playlist['lastModifiedDate']\n",
    "    \n",
    "    #Iterate through each item\n",
    "    for item in playlist['items']:\n",
    "        track = item['track']\n",
    "        rows.append({\n",
    "            'playlist_name': playlist_name,\n",
    "            'last_modified_date': last_modified_date,\n",
    "            'track_name': track['trackName'],\n",
    "            'artist_name': track['artistName'],\n",
    "            'album_name': track['albumName'],\n",
    "            'track_uri': track['trackUri'],\n",
    "            'added_date': item['addedDate']\n",
    "        })\n",
    "\n",
    "df = pd.DataFrame(rows)\n",
    "\n",
    "df.tail(10)"
   ]
  },
  {
   "cell_type": "code",
   "execution_count": 5,
   "metadata": {},
   "outputs": [
    {
     "data": {
      "text/plain": [
       "playlist_name         0\n",
       "last_modified_date    0\n",
       "track_name            0\n",
       "artist_name           0\n",
       "album_name            0\n",
       "track_uri             0\n",
       "added_date            0\n",
       "dtype: int64"
      ]
     },
     "execution_count": 5,
     "metadata": {},
     "output_type": "execute_result"
    }
   ],
   "source": [
    "df.isna().sum()"
   ]
  },
  {
   "cell_type": "code",
   "execution_count": 9,
   "metadata": {},
   "outputs": [],
   "source": [
    "df.drop_duplicates(inplace=True)\n",
    "df.duplicated().sum()"
   ]
  },
  {
   "cell_type": "markdown",
   "metadata": {},
   "source": [
    "# Top Artists"
   ]
  },
  {
   "cell_type": "code",
   "execution_count": 12,
   "metadata": {},
   "outputs": [
    {
     "data": {
      "image/png": "[encoded data removed]",
      "text/plain": [
       "<Figure size 1200x600 with 1 Axes>"
      ]
     },
     "metadata": {},
     "output_type": "display_data"
    }
   ],
   "source": [
    "artist_counts = df['artist_name'].value_counts()\n",
    "\n",
    "top_artists = artist_counts.head(10)\n",
    "\n",
    "plt.figure(figsize=(12, 6))\n",
    "top_artists.plot(kind='bar')\n",
    "plt.title('Top 10 Artists')\n",
    "plt.xlabel('Artist Name')\n",
    "plt.ylabel('Number of Appearances')\n",
    "plt.xticks(rotation=45, ha='right')\n",
    "plt.tight_layout()\n",
    "plt.show()"
   ]
  },
  {
   "cell_type": "code",
   "execution_count": null,
   "metadata": {},
   "outputs": [],
   "source": []
  }
 ],
 "metadata": {
  "kernelspec": {
   "display_name": "Python 3",
   "language": "python",
   "name": "python3"
  },
  "language_info": {
   "codemirror_mode": {
    "name": "ipython",
    "version": 3
   },
   "file_extension": ".py",
   "mimetype": "text/x-python",
   "name": "python",
   "nbconvert_exporter": "python",
   "pygments_lexer": "ipython3",
   "version": "3.12.3"
  }
 },
 "nbformat": 4,
 "nbformat_minor": 2
}
