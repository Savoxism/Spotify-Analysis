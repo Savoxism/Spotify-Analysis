{
 "cells": [
  {
   "cell_type": "code",
   "execution_count": null,
   "metadata": {},
   "outputs": [],
   "source": [
    "import json\n",
    "import os\n",
    "import pandas as pd\n",
    "import numpy as np\n",
    "import matplotlib.pyplot as plt\n",
    "import seaborn as sns"
   ]
  },
  {
   "cell_type": "code",
   "execution_count": null,
   "metadata": {},
   "outputs": [],
   "source": [
    "wrapped_file_path = 'datasets/Wrapped2023.json'\n",
    "\n",
    "with open(wrapped_file_path, 'r') as file:\n",
    "    data = json.load(file)\n",
    "    \n",
    "    \n",
    "data"
   ]
  },
  {
   "cell_type": "markdown",
   "metadata": {},
   "source": [
    "# Top Artists"
   ]
  },
  {
   "cell_type": "code",
   "execution_count": null,
   "metadata": {},
   "outputs": [],
   "source": [
    "def process_top_artists(data):\n",
    "    artists_data = []\n",
    "    for artist in data['topArtists']['topArtists']:\n",
    "        artist_uri = artist['artistUri']\n",
    "        for month in artist['monthlyStreams']:\n",
    "            for period in month['biweeklyStreams']:\n",
    "                artists_data.append({\n",
    "                    'artist_uri': artist_uri,\n",
    "                    'month': month['month'],\n",
    "                    'period': period['period'],\n",
    "                    'streams': period['numStreams'],\n",
    "                })\n",
    "    return pd.DataFrame(artists_data)\n",
    "\n",
    "\n",
    "df_artists = process_top_artists(data)"
   ]
  },
  {
   "cell_type": "code",
   "execution_count": null,
   "metadata": {},
   "outputs": [],
   "source": [
    "df_artists.head()"
   ]
  },
  {
   "cell_type": "code",
   "execution_count": null,
   "metadata": {},
   "outputs": [],
   "source": [
    "artist_total_streams = df_artists.groupby('artist_uri')['streams'].sum().sort_values(ascending=False)\n",
    "\n",
    "# Get top 5 artists\n",
    "top_5_artists = artist_total_streams.index[:5].tolist()\n",
    "\n",
    "# Save top 5 artist URIs to a file\n",
    "with open('datasets/top_5_artists.json', 'w') as f:\n",
    "    json.dump(top_5_artists, f)\n",
    "    \n",
    "# Plotting\n",
    "plt.figure(figsize=(12, 6))\n",
    "artist_total_streams.head(5).plot(kind='bar')\n",
    "plt.title('Total Streams for Top 10 Artists')\n",
    "plt.xlabel('Artist URI')\n",
    "plt.ylabel('Total Streams')\n",
    "plt.xticks(rotation=45, ha='right')\n",
    "plt.tight_layout()\n",
    "plt.show()"
   ]
  },
  {
   "cell_type": "code",
   "execution_count": null,
   "metadata": {},
   "outputs": [],
   "source": [
    "# 2. Line plot of monthly streams for top 5 artists\n",
    "plt.figure(figsize=(12, 6))\n",
    "for artist in top_5_artists:\n",
    "    artist_data = df_artists[df_artists['artist_uri'] == artist].groupby('month')['streams'].sum()\n",
    "    plt.plot(artist_data.index, artist_data.values, marker='o', label=artist)\n",
    "plt.title('Monthly Streams for Top 5 Artists')\n",
    "plt.xlabel('Month')\n",
    "plt.ylabel('Number of Streams')\n",
    "plt.legend(title='Artist URI', bbox_to_anchor=(1.05, 1), loc='upper left')\n",
    "plt.tight_layout()\n",
    "plt.show()"
   ]
  },
  {
   "cell_type": "code",
   "execution_count": null,
   "metadata": {},
   "outputs": [],
   "source": [
    "# 5. Pie chart of stream distribution among top 5 artists\n",
    "plt.figure(figsize=(10, 10))\n",
    "plt.pie(artist_total_streams.head(), labels=top_5_artists, autopct='%1.1f%%', startangle=90)\n",
    "plt.title('Stream Distribution Among Top 5 Artists')\n",
    "plt.axis('equal')\n",
    "plt.show()"
   ]
  },
  {
   "cell_type": "code",
   "execution_count": null,
   "metadata": {},
   "outputs": [],
   "source": [
    "total_listening_time_in_mins = data['topArtists']['topArtistMilliseconds'] / 60000\n",
    "\n",
    "# Print additional statistics\n",
    "print(\"Top 5 Artists by Total Streams:\")\n",
    "for i, (artist, streams) in enumerate(artist_total_streams.head().items(), 1):\n",
    "    print(f\"{i}. {artist}: {streams} streams\")\n",
    "    \n",
    "print(\"\\nTotal Number of Unique Artists:\", data['topArtists']['numUniqueArtists'])\n",
    "print(f\"Total Listening Time for Top Artists: {round(total_listening_time_in_mins)} minutes\")\n",
    "print(\"Top Artist Fan Percentage:\", data['topArtists']['topArtistFanPercentage'])"
   ]
  },
  {
   "cell_type": "code",
   "execution_count": null,
   "metadata": {},
   "outputs": [],
   "source": [
    "for artist in top_5_artists:\n",
    "    artist_data = df_artists[df_artists['artist_uri'] == artist].groupby('month')['streams'].sum()\n",
    "    peak_month = artist_data.idxmax()\n",
    "    peak_streams = artist_data.max()\n",
    "    print(f\"\\nPeak month for {artist}: Month {peak_month} with {peak_streams} streams\")"
   ]
  },
  {
   "cell_type": "markdown",
   "metadata": {},
   "source": [
    "# Top Genres, Podcasts, Artists"
   ]
  },
  {
   "cell_type": "code",
   "execution_count": null,
   "metadata": {},
   "outputs": [],
   "source": [
    "# Top Genres\n",
    "print(\"Top Genres:\")\n",
    "print(\", \".join(data['topGenres']['topGenres']))\n",
    "print(f\"Total number of genres: {data['topGenres']['numberGenres']}\")"
   ]
  },
  {
   "cell_type": "code",
   "execution_count": null,
   "metadata": {},
   "outputs": [],
   "source": [
    "# Top Podcasts\n",
    "print(\"\\nTop Podcasts:\")\n",
    "for uri in data['topPodcasts']['topPodcastsUri']:\n",
    "    print(uri)\n",
    "print(f\"Total podcast listening time: {data['topPodcasts']['totalPodcastMilliseconds'] / 60000:.2f} minutes\")\n",
    "print(f\"Podcast listening percentage: {data['topPodcasts']['topPodcastPercentage'] * 100:.2f}%\")"
   ]
  },
  {
   "cell_type": "code",
   "execution_count": null,
   "metadata": {},
   "outputs": [],
   "source": [
    "# Top Tracks\n",
    "top_tracks_uris = data['topTracks']['topTracks']\n",
    "# Save to a JSON file\n",
    "with open('datasets/top_tracks_uris.json', 'w') as f:\n",
    "    json.dump(top_tracks_uris, f)\n",
    "    \n",
    "# Print additional statistics\n",
    "print(\"\\nTop Tracks:\")\n",
    "for uri in top_tracks_uris:\n",
    "    print(uri)\n",
    "print(f\"Top track play count: {data['topTracks']['topTrackPlayCount']}\")\n",
    "print(f\"Distinct tracks played: {data['topTracks']['distinctTracksPlayed']}\")\n",
    "print(f\"Top track first played date: {data['topTracks']['topTrackFirstPlayedDate']}\")"
   ]
  },
  {
   "cell_type": "markdown",
   "metadata": {},
   "source": [
    "# Yearly Metrics"
   ]
  },
  {
   "cell_type": "code",
   "execution_count": null,
   "metadata": {},
   "outputs": [],
   "source": [
    "# Bonus: Yearly Metrics\n",
    "print(\"\\nYearly Metrics:\")\n",
    "yearly = data['yearlyMetrics']\n",
    "print(f\"Total listening time: {yearly['totalMsListened'] / 3600000:.2f} hours\")\n",
    "print(f\"Most listened day: {yearly['mostListenedDay']}\")\n",
    "print(f\"Minutes listened on most active day: {yearly['mostListenedDayMinutes']:.2f}\")\n",
    "print(f\"Percentile among users: {yearly['percentGreaterThanWorldwideUsers']:.2f}%\")"
   ]
  }
 ],
 "metadata": {
  "kernelspec": {
   "display_name": "Python 3",
   "language": "python",
   "name": "python3"
  },
  "language_info": {
   "codemirror_mode": {
    "name": "ipython",
    "version": 3
   },
   "file_extension": ".py",
   "mimetype": "text/x-python",
   "name": "python",
   "nbconvert_exporter": "python",
   "pygments_lexer": "ipython3",
   "version": "3.12.3"
  }
 },
 "nbformat": 4,
 "nbformat_minor": 2
}
