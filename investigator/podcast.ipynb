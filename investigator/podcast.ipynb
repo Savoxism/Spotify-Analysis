{
 "cells": [
  {
   "cell_type": "markdown",
   "metadata": {},
   "source": [
    "# Import Necessary Modules"
   ]
  },
  {
   "cell_type": "code",
   "execution_count": null,
   "metadata": {},
   "outputs": [],
   "source": [
    "import json\n",
    "import os\n",
    "import pandas as pd\n",
    "import numpy as np\n",
    "import matplotlib.pyplot as plt\n",
    "import seaborn as sns"
   ]
  },
  {
   "cell_type": "code",
   "execution_count": null,
   "metadata": {},
   "outputs": [],
   "source": [
    "def clean_podcast_data(df):\n",
    "    df['endTime'] = pd.to_datetime(df['endTime'], errors='coerce')\n",
    "\n",
    "    df['date'] = df['endTime'].dt.date\n",
    "\n",
    "    df['hour'] = df['endTime'].dt.hour\n",
    "\n",
    "    df['minutesPlayed'] = df['msPlayed'] / 60000\n",
    "\n",
    "    df = df.dropna(subset=['endTime'])\n",
    "    \n",
    "    df = df[df['minutesPlayed'] > 0]\n",
    "    \n",
    "    df = df.drop_duplicates()\n",
    "    \n",
    "    return df"
   ]
  },
  {
   "cell_type": "code",
   "execution_count": null,
   "metadata": {},
   "outputs": [],
   "source": [
    "podcast_file_path = 'datasets/StreamingHistory_podcast_0.json'\n",
    "with open(podcast_file_path, 'r', encoding='utf-8') as file:\n",
    "    data = json.load(file)\n",
    "\n",
    "df = pd.DataFrame(data)\n",
    "\n",
    "df.head(7)\n"
   ]
  },
  {
   "cell_type": "code",
   "execution_count": null,
   "metadata": {},
   "outputs": [],
   "source": [
    "df = clean_podcast_data(df)\n",
    "\n",
    "df.head(7)"
   ]
  },
  {
   "cell_type": "markdown",
   "metadata": {},
   "source": [
    "# General Statistics"
   ]
  },
  {
   "cell_type": "code",
   "execution_count": null,
   "metadata": {},
   "outputs": [],
   "source": [
    "total_time = df['msPlayed'].sum() / (1000 * 60)\n",
    "total_podcasts = df['podcastName'].nunique()\n",
    "total_episodes = len(df)\n",
    "avg_ep_length = (df['msPlayed'] / 60000).mean()\n",
    "\n",
    "print(f\"Total listening time: {total_time:.0f} minutes ({total_time/60:.1f} hours)\")\n",
    "print(f\"Number of different podcasts listened to: {total_podcasts}\")\n",
    "print(f\"Total episodes listened: {total_episodes}\")\n",
    "print(f\"Average episode length: {avg_ep_length:.1f} minutes\")"
   ]
  },
  {
   "cell_type": "code",
   "execution_count": null,
   "metadata": {},
   "outputs": [],
   "source": [
    "dates = sorted(df['date'].unique()) \n",
    "max_streak = current_streak = 0\n",
    "for i in range(1, len(dates)):\n",
    "    if (dates[i] - dates[i-1]).days == 1:\n",
    "        current_streak += 1\n",
    "        max_streak = max(max_streak, current_streak)\n",
    "    else:\n",
    "        current_streak = 0\n",
    "        \n",
    "start_date = df['date'].min()\n",
    "end_date = df['date'].max()\n",
    "date_range = (end_date - start_date).days + 1\n",
    "\n",
    "print(f\"Podcast Listening Statistics (from {start_date} to {end_date}):\")\n",
    "print(f\"Longest streak of consecutive days listening to podcasts: {max_streak+1} days\")"
   ]
  },
  {
   "cell_type": "markdown",
   "metadata": {},
   "source": [
    "# Most Frequently Listened Podcasts"
   ]
  },
  {
   "cell_type": "code",
   "execution_count": null,
   "metadata": {},
   "outputs": [],
   "source": [
    "podcast_time_played = df.groupby('podcastName')['msPlayed'].sum().sort_values(ascending=False) / 60000 # convert to minutes\n",
    "\n",
    "podcast_time_played.head(5).plot(kind='bar', figsize=(12, 6))\n",
    "plt.title('Top 5 Most Listened Podcasts')\n",
    "plt.xlabel('Podcast Name')\n",
    "plt.ylabel('Time Listened (minutes)')\n",
    "plt.xticks(rotation=45, ha='right')\n",
    "plt.tight_layout()\n",
    "plt.show()"
   ]
  },
  {
   "cell_type": "code",
   "execution_count": null,
   "metadata": {},
   "outputs": [],
   "source": [
    "print(f\"Most listened podcast: {podcast_time_played.index[0]}, at {podcast_time_played.iloc[0]:.2f} minutes\")"
   ]
  },
  {
   "cell_type": "markdown",
   "metadata": {},
   "source": [
    "# Timeline of Listening"
   ]
  },
  {
   "cell_type": "code",
   "execution_count": null,
   "metadata": {},
   "outputs": [],
   "source": [
    "df.set_index('endTime', inplace=True)\n",
    "\n",
    "daily_listening = df.resample('D')['msPlayed'].sum() / (60 * 1000)\n",
    "\n",
    "monthly_listening = daily_listening.resample('ME').sum()"
   ]
  },
  {
   "cell_type": "code",
   "execution_count": null,
   "metadata": {},
   "outputs": [],
   "source": [
    "plt.figure(figsize=(12, 6))\n",
    "monthly_listening.plot(kind='line')\n",
    "plt.title('Podcast Listening Frequency Over Time')\n",
    "plt.xlabel('Date')\n",
    "plt.ylabel('Listening Time (minutes)')\n",
    "plt.tight_layout()\n",
    "plt.show()"
   ]
  },
  {
   "cell_type": "code",
   "execution_count": null,
   "metadata": {},
   "outputs": [],
   "source": [
    "#Some Statistics\n",
    "print(f\"Total listening time: {monthly_listening.sum():.2f} minutes\")\n",
    "print(f\"Average monthly listening time: {monthly_listening.mean():.2f} minutes\")\n",
    "print(f\"Month with most listening: {monthly_listening.idxmax().strftime('%Y-%m')}\")\n",
    "print(f\"Month with least listening: {monthly_listening.idxmin().strftime('%Y-%m')}\")"
   ]
  },
  {
   "cell_type": "markdown",
   "metadata": {},
   "source": [
    "# What Time of Day Did I Listen the Most? "
   ]
  },
  {
   "cell_type": "code",
   "execution_count": null,
   "metadata": {},
   "outputs": [],
   "source": [
    "# Create a histogram of listening times\n",
    "plt.figure(figsize=(12, 6))\n",
    "sns.histplot(data=df, x='hour', weights='minutesPlayed', bins=24, kde=True)\n",
    "plt.title('Podcast Listening Frequency by Time of Day')\n",
    "plt.xlabel('Hour of Day (24-hour format)')\n",
    "plt.ylabel('Total Listening Time (minutes)')\n",
    "plt.xticks(range(0, 24))\n",
    "plt.tight_layout()\n",
    "plt.show()"
   ]
  },
  {
   "cell_type": "code",
   "execution_count": null,
   "metadata": {},
   "outputs": [],
   "source": [
    "#Calculate peak time\n",
    "hour_listening = df.groupby('hour')['minutesPlayed'].sum()\n",
    "peak_hour = hour_listening.index[hour_listening.argmax()]\n",
    "peak_time = f\"{peak_hour:02d}:00 - {(peak_hour + 1) % 24:02d}:00\"\n",
    "\n",
    "print(f'You most often listen to podcasts between {peak_time}.') "
   ]
  },
  {
   "cell_type": "code",
   "execution_count": null,
   "metadata": {},
   "outputs": [],
   "source": [
    "# Calculate percentage of listening time for each hour\n",
    "total_time = hour_listening.sum()\n",
    "hour_percentage = (hour_listening / total_time) * 100\n",
    "\n",
    "print(\"\\nTop 3 hours for podcast listening:\")\n",
    "for hour, percentage in hour_percentage.nlargest(3).items():\n",
    "    print(f\"{hour:02d}:00 - {(hour + 1) % 24:02d}:00: {percentage:.2f}% ({hour_listening[hour]:.0f} minutes)\")"
   ]
  },
  {
   "cell_type": "markdown",
   "metadata": {},
   "source": [
    "# That's Sufficient for Podcasts Analysis"
   ]
  }
 ],
 "metadata": {
  "kernelspec": {
   "display_name": "Python 3",
   "language": "python",
   "name": "python3"
  },
  "language_info": {
   "codemirror_mode": {
    "name": "ipython",
    "version": 3
   },
   "file_extension": ".py",
   "mimetype": "text/x-python",
   "name": "python",
   "nbconvert_exporter": "python",
   "pygments_lexer": "ipython3",
   "version": "3.12.3"
  }
 },
 "nbformat": 4,
 "nbformat_minor": 2
}
