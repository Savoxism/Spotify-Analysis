{
 "cells": [
  {
   "cell_type": "code",
   "execution_count": null,
   "metadata": {},
   "outputs": [],
   "source": [
    "import json\n",
    "import pandas as pd\n",
    "from datetime import datetime, timedelta\n",
    "import matplotlib.pyplot as plt\n",
    "from collections import defaultdict"
   ]
  },
  {
   "cell_type": "markdown",
   "metadata": {},
   "source": [
    "# Model"
   ]
  },
  {
   "cell_type": "code",
   "execution_count": null,
   "metadata": {},
   "outputs": [],
   "source": [
    "file1_path = 'my_spotify_data/Spotify Account Data/StreamingHistory_music_0.json'\n",
    "# file2_path = 'my_spotify_data/Spotify Account Data/StreamingHistory_music_1.json'\n",
    "# file3_path = 'my_spotify_data/Spotify Account Data/StreamingHistory_music_2.json'\n",
    "# file4_path = 'my_spotify_data/Spotify Account Data/StreamingHistory_music_3.json'\n",
    "# file5_path = 'my_spotify_data/Spotify Account Data/StreamingHistory_music_4.json'\n",
    "\n",
    "def load_json_file(file_path): \n",
    "    encodings = ['utf-8', 'utf-8-sig', 'latin-1', 'iso-8859-1']\n",
    "    \n",
    "    for encoding in encodings:\n",
    "        try:\n",
    "            with open(file_path, 'r', encoding=encoding) as file:\n",
    "                return json.load(file)\n",
    "        except UnicodeDecodeError:\n",
    "            continue\n",
    "    \n",
    "    raise ValueError(f\"Unable to decode the file {file_path} with any of the attempted encodings.\")\n",
    "    \n",
    "def combine_music_data(file1_path):\n",
    "    data1 = load_json_file(file1_path)\n",
    "    # data2 = load_json_file(file2_path)\n",
    "    # data3 = load_json_file(file3_path)\n",
    "    # data4 = load_json_file(file4_path)\n",
    "    # data5 = load_json_file(file5_path)\n",
    "    \n",
    "    # Combine the data\n",
    "    combined_data = data1\n",
    "    \n",
    "    # Convert to DataFrame\n",
    "    df = pd.DataFrame(combined_data)\n",
    "    \n",
    "    # Convert 'endTime' to datetime and 'msPlayed' to timedelta\n",
    "    df['endTime'] = pd.to_datetime(df['endTime'])\n",
    "    df['duration'] = pd.to_timedelta(df['msPlayed'], unit='ms')\n",
    "    \n",
    "    # Drop the 'msPlayed' column as we now have 'duration'\n",
    "    df = df.drop('msPlayed', axis=1)\n",
    "    \n",
    "    # Convert 'duration' to HH:MM:SS format\n",
    "    df['duration'] = df['duration'].apply(lambda x: f\"{int(x.total_seconds() // 3600):02d}:{int(x.total_seconds() % 3600 // 60):02d}:{int(x.total_seconds() % 60):02d}\")\n",
    "    \n",
    "    # Sort by endTime\n",
    "    df = df.sort_values('endTime')\n",
    "    \n",
    "    # Reset index\n",
    "    df = df.reset_index(drop=True)\n",
    "    \n",
    "    return df"
   ]
  },
  {
   "cell_type": "code",
   "execution_count": null,
   "metadata": {},
   "outputs": [],
   "source": [
    "result_df = combine_music_data(file1_path)\n",
    "result_df.to_csv('datasets/combined_music_data.csv', index=False, encoding='utf-8-sig')"
   ]
  },
  {
   "cell_type": "markdown",
   "metadata": {},
   "source": [
    "# Analysis"
   ]
  },
  {
   "cell_type": "code",
   "execution_count": null,
   "metadata": {},
   "outputs": [],
   "source": [
    "df = pd.read_csv('datasets/combined_music_data.csv', parse_dates=['endTime'])\n",
    "\n",
    "df.tail(10)"
   ]
  },
  {
   "cell_type": "markdown",
   "metadata": {},
   "source": [
    "# Time Spent Over Time"
   ]
  },
  {
   "cell_type": "code",
   "execution_count": null,
   "metadata": {},
   "outputs": [],
   "source": [
    "df_copy = df.copy()\n",
    "def duration_to_hour(duration):\n",
    "    h, m, s = map(int, duration.split(':'))\n",
    "    return h + m / 60 + s / 3600\n",
    "\n",
    "df_copy['duration_hours'] = df_copy['duration'].apply(duration_to_hour)\n",
    "df_copy['cumulative_hours'] = df_copy['duration_hours'].cumsum()"
   ]
  },
  {
   "cell_type": "code",
   "execution_count": null,
   "metadata": {},
   "outputs": [],
   "source": [
    "plt.figure(figsize=(12, 6))\n",
    "plt.plot(df_copy['endTime'], df_copy['cumulative_hours'], marker='o')\n",
    "plt.title(\"Cumulative Listening Time\")\n",
    "plt.xlabel(\"Date\")\n",
    "plt.ylabel(\"Time (hours)\")\n",
    "plt.xticks(rotation=45)\n",
    "plt.tight_layout()\n",
    "plt.show()"
   ]
  },
  {
   "cell_type": "code",
   "execution_count": null,
   "metadata": {},
   "outputs": [],
   "source": [
    "# Print total listening time\n",
    "total_hours = df_copy['duration_hours'].sum()\n",
    "print(f\"Total listening time: {total_hours:.2f} hours\")"
   ]
  },
  {
   "cell_type": "markdown",
   "metadata": {},
   "source": [
    "### Usage by Months"
   ]
  },
  {
   "cell_type": "code",
   "execution_count": null,
   "metadata": {},
   "outputs": [],
   "source": [
    "df_copy['month_year'] = df_copy['endTime'].dt.to_period('M')\\\n",
    "    \n",
    "monthly_usage = df_copy.groupby('month_year')['duration_hours'].sum().reset_index()\n",
    "\n",
    "monthly_usage = monthly_usage.sort_values('month_year')"
   ]
  },
  {
   "cell_type": "code",
   "execution_count": null,
   "metadata": {},
   "outputs": [],
   "source": [
    "# Create the histogram\n",
    "plt.figure(figsize=(12, 6))\n",
    "plt.bar(monthly_usage['month_year'].astype(str), monthly_usage['duration_hours'])\n",
    "\n",
    "plt.title(\"Monthly Listening Time\")\n",
    "plt.xlabel(\"Month\")\n",
    "plt.ylabel(\"Listening Time (hours)\")\n",
    "plt.xticks(rotation=45, ha='right')\n",
    "plt.tight_layout()\n",
    "\n",
    "# Add value labels on top of each bar\n",
    "for i, v in enumerate(monthly_usage['duration_hours']):\n",
    "    plt.text(i, v, f'{v:.2f}', ha='center', va='bottom')\n",
    "\n",
    "plt.show()"
   ]
  },
  {
   "cell_type": "code",
   "execution_count": null,
   "metadata": {},
   "outputs": [],
   "source": [
    "# Print average monthly listening time\n",
    "avg_monthly_hours = monthly_usage['duration_hours'].mean()\n",
    "print(f\"Average monthly listening time: {avg_monthly_hours:.2f} hours\")"
   ]
  },
  {
   "cell_type": "markdown",
   "metadata": {},
   "source": [
    "# Track Counts Over Time"
   ]
  },
  {
   "cell_type": "code",
   "execution_count": null,
   "metadata": {},
   "outputs": [],
   "source": [
    "track_counts = df['trackName'].value_counts()\n",
    "\n",
    "top_10_tracks = track_counts.head(10)\n",
    "# Create a bar chart\n",
    "plt.figure(figsize=(10, 6))\n",
    "top_10_tracks.plot(kind='barh')\n",
    "plt.title('Number of Tracks per Artist')\n",
    "plt.xlabel('Number of Tracks')\n",
    "plt.ylabel('Artist')\n",
    "plt.tight_layout()\n",
    "\n",
    "# Show the plot\n",
    "plt.show()"
   ]
  },
  {
   "cell_type": "code",
   "execution_count": null,
   "metadata": {},
   "outputs": [],
   "source": [
    "print(top_10_tracks)"
   ]
  },
  {
   "cell_type": "markdown",
   "metadata": {},
   "source": [
    "# Top Tracks Total Listening Time"
   ]
  },
  {
   "cell_type": "code",
   "execution_count": null,
   "metadata": {},
   "outputs": [],
   "source": [
    "track_usage = df_copy.groupby('trackName')['duration_hours'].sum().reset_index()\n",
    "top_10_tracks = track_usage.sort_values('duration_hours', ascending=False).head(10)\n",
    "\n",
    "# Create the bar chart\n",
    "plt.figure(figsize=(10, 6))\n",
    "bars = plt.bar(top_10_tracks['trackName'], top_10_tracks['duration_hours'])\n",
    "\n",
    "plt.title(\"Top 10 Tracks by Total Listening Time\")\n",
    "plt.xlabel(\"Track Name\")\n",
    "plt.ylabel(\"Total Listening Time (hours)\")\n",
    "plt.xticks(rotation=45, ha='right')\n",
    "plt.tight_layout()\n",
    "\n",
    "# Add value labels on top of each bar\n",
    "for bar in bars:\n",
    "    height = bar.get_height()\n",
    "    plt.text(bar.get_x() + bar.get_width()/2., height,\n",
    "             f'{height:.2f}',\n",
    "             ha='center', va='bottom')\n",
    "\n",
    "# Adjust layout to prevent cutting off labels\n",
    "plt.subplots_adjust(bottom=0.2)\n",
    "\n",
    "plt.show()"
   ]
  },
  {
   "cell_type": "code",
   "execution_count": null,
   "metadata": {},
   "outputs": [],
   "source": [
    "# Print total listening time for top 10 tracks\n",
    "total_top_10 = top_10_tracks['duration_hours'].sum()\n",
    "print(f\"Total listening time for top 10 tracks: {total_top_10:.2f} hours\")\n",
    "\n",
    "# Print percentage of total listening time\n",
    "total_all = df_copy['duration_hours'].sum()\n",
    "percentage = (total_top_10 / total_all) * 100\n",
    "print(f\"This represents {percentage:.2f}% of your total listening time\")"
   ]
  },
  {
   "cell_type": "markdown",
   "metadata": {},
   "source": [
    "# Specific Track Listening Time"
   ]
  },
  {
   "cell_type": "code",
   "execution_count": null,
   "metadata": {},
   "outputs": [],
   "source": [
    "# Function to get listening time for a specific track\n",
    "def get_track_listening_time(track_name):\n",
    "    track_time = track_usage[track_usage['trackName'] == track_name]['duration_hours'].values\n",
    "    if len(track_time) > 0:\n",
    "        return f\"Total listening time for '{track_name}': {track_time[0]:.2f} hours\"\n",
    "    else:\n",
    "        return f\"Track '{track_name}' not found in the dataset\"\n",
    "\n",
    "# Example usage:\n",
    "print(get_track_listening_time(\"Like I Do\"))  # Replace with any track name you want to check\n",
    "print(get_track_listening_time(\"Your Existence\"))    # Another example"
   ]
  }
 ],
 "metadata": {
  "kernelspec": {
   "display_name": "Python 3",
   "language": "python",
   "name": "python3"
  },
  "language_info": {
   "codemirror_mode": {
    "name": "ipython",
    "version": 3
   },
   "file_extension": ".py",
   "mimetype": "text/x-python",
   "name": "python",
   "nbconvert_exporter": "python",
   "pygments_lexer": "ipython3",
   "version": "3.12.3"
  }
 },
 "nbformat": 4,
 "nbformat_minor": 2
}
